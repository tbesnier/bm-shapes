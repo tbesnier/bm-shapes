{
 "cells": [
  {
   "cell_type": "markdown",
   "id": "dbfa97b1",
   "metadata": {},
   "source": [
    "# Basic stochastic processes between shapes described as simple functions in $L^2(\\mathbb{S}^2, \\mathbb{R}^3)$."
   ]
  },
  {
   "cell_type": "code",
   "execution_count": 2,
   "id": "12785c82",
   "metadata": {},
   "outputs": [
    {
     "ename": "ImportError",
     "evalue": "dlopen(/Users/libbybaker/Documents/Code/Python/bm-shapes-project/env/lib/python3.9/site-packages/open3d/cpu/pybind.cpython-39-darwin.so, 0x0002): Library not loaded: /opt/homebrew/opt/libomp/lib/libomp.dylib\n  Referenced from: <0718BFA0-280F-3029-A780-D45CF6BB9F0D> /Users/libbybaker/Documents/Code/Python/bm-shapes-project/env/lib/python3.9/site-packages/open3d/cpu/pybind.cpython-39-darwin.so\n  Reason: tried: '/opt/homebrew/opt/libomp/lib/libomp.dylib' (no such file), '/System/Volumes/Preboot/Cryptexes/OS/opt/homebrew/opt/libomp/lib/libomp.dylib' (no such file), '/opt/homebrew/opt/libomp/lib/libomp.dylib' (no such file), '/usr/lib/libomp.dylib' (no such file, not in dyld cache)",
     "output_type": "error",
     "traceback": [
      "\u001b[0;31m---------------------------------------------------------------------------\u001b[0m",
      "\u001b[0;31mImportError\u001b[0m                               Traceback (most recent call last)",
      "Cell \u001b[0;32mIn [2], line 5\u001b[0m\n\u001b[1;32m      2\u001b[0m \u001b[39mimport\u001b[39;00m \u001b[39mnumpy\u001b[39;00m \u001b[39mas\u001b[39;00m \u001b[39mnp\u001b[39;00m\n\u001b[1;32m      4\u001b[0m sys\u001b[39m.\u001b[39mpath\u001b[39m.\u001b[39minsert(\u001b[39m0\u001b[39m,\u001b[39m\"\u001b[39m\u001b[39m../\u001b[39m\u001b[39m\"\u001b[39m)\n\u001b[0;32m----> 5\u001b[0m \u001b[39mfrom\u001b[39;00m \u001b[39mutils\u001b[39;00m \u001b[39mimport\u001b[39;00m shape_stochastics\n",
      "File \u001b[0;32m~/Documents/Code/Python/bm-shapes-project/bm-shapes/examples/../utils/shape_stochastics.py:8\u001b[0m\n\u001b[1;32m      5\u001b[0m \u001b[39mimport\u001b[39;00m \u001b[39msys\u001b[39;00m\n\u001b[1;32m      7\u001b[0m sys\u001b[39m.\u001b[39mpath\u001b[39m.\u001b[39minsert(\u001b[39m0\u001b[39m,\u001b[39m\"\u001b[39m\u001b[39m../\u001b[39m\u001b[39m\"\u001b[39m)\n\u001b[0;32m----> 8\u001b[0m \u001b[39mfrom\u001b[39;00m \u001b[39mutils\u001b[39;00m \u001b[39mimport\u001b[39;00m sph_utils, mesh_processing\n\u001b[1;32m     10\u001b[0m \u001b[39mimport\u001b[39;00m \u001b[39mpyssht\u001b[39;00m\n\u001b[1;32m     13\u001b[0m \u001b[39mdef\u001b[39;00m \u001b[39mmake_grid\u001b[39m(N):\n",
      "File \u001b[0;32m~/Documents/Code/Python/bm-shapes-project/bm-shapes/examples/../utils/mesh_processing.py:5\u001b[0m\n\u001b[1;32m      3\u001b[0m \u001b[39mfrom\u001b[39;00m \u001b[39mscipy\u001b[39;00m\u001b[39m.\u001b[39;00m\u001b[39mio\u001b[39;00m \u001b[39mimport\u001b[39;00m savemat\n\u001b[1;32m      4\u001b[0m \u001b[39mimport\u001b[39;00m \u001b[39mos\u001b[39;00m\n\u001b[0;32m----> 5\u001b[0m \u001b[39mimport\u001b[39;00m \u001b[39mopen3d\u001b[39;00m \u001b[39mas\u001b[39;00m \u001b[39mo3d\u001b[39;00m\n\u001b[1;32m      6\u001b[0m \u001b[39mimport\u001b[39;00m \u001b[39mcopy\u001b[39;00m\n\u001b[1;32m      7\u001b[0m \u001b[39mimport\u001b[39;00m \u001b[39mtrimesh\u001b[39;00m \u001b[39mas\u001b[39;00m \u001b[39mtri\u001b[39;00m\n",
      "File \u001b[0;32m~/Documents/Code/Python/bm-shapes-project/env/lib/python3.9/site-packages/open3d/__init__.py:97\u001b[0m\n\u001b[1;32m     91\u001b[0m         warnings\u001b[39m.\u001b[39mwarn(\n\u001b[1;32m     92\u001b[0m             \u001b[39m\"\u001b[39m\u001b[39mOpen3D was built with CUDA support, but Open3D CUDA Python \u001b[39m\u001b[39m\"\u001b[39m\n\u001b[1;32m     93\u001b[0m             \u001b[39m\"\u001b[39m\u001b[39mbinding library not found! Falling back to the CPU Python \u001b[39m\u001b[39m\"\u001b[39m\n\u001b[1;32m     94\u001b[0m             \u001b[39m\"\u001b[39m\u001b[39mbinding library.\u001b[39m\u001b[39m\"\u001b[39m, \u001b[39mImportWarning\u001b[39;00m)\n\u001b[1;32m     96\u001b[0m \u001b[39mif\u001b[39;00m __DEVICE_API__ \u001b[39m==\u001b[39m \u001b[39m'\u001b[39m\u001b[39mcpu\u001b[39m\u001b[39m'\u001b[39m:\n\u001b[0;32m---> 97\u001b[0m     \u001b[39mfrom\u001b[39;00m \u001b[39mopen3d\u001b[39;00m\u001b[39m.\u001b[39;00m\u001b[39mcpu\u001b[39;00m\u001b[39m.\u001b[39;00m\u001b[39mpybind\u001b[39;00m \u001b[39mimport\u001b[39;00m (camera, data, geometry, io, pipelines,\n\u001b[1;32m     98\u001b[0m                                    utility, t)\n\u001b[1;32m     99\u001b[0m     \u001b[39mfrom\u001b[39;00m \u001b[39mopen3d\u001b[39;00m\u001b[39m.\u001b[39;00m\u001b[39mcpu\u001b[39;00m \u001b[39mimport\u001b[39;00m pybind\n\u001b[1;32m    101\u001b[0m \u001b[39mimport\u001b[39;00m \u001b[39mopen3d\u001b[39;00m\u001b[39m.\u001b[39;00m\u001b[39mcore\u001b[39;00m\n",
      "\u001b[0;31mImportError\u001b[0m: dlopen(/Users/libbybaker/Documents/Code/Python/bm-shapes-project/env/lib/python3.9/site-packages/open3d/cpu/pybind.cpython-39-darwin.so, 0x0002): Library not loaded: /opt/homebrew/opt/libomp/lib/libomp.dylib\n  Referenced from: <0718BFA0-280F-3029-A780-D45CF6BB9F0D> /Users/libbybaker/Documents/Code/Python/bm-shapes-project/env/lib/python3.9/site-packages/open3d/cpu/pybind.cpython-39-darwin.so\n  Reason: tried: '/opt/homebrew/opt/libomp/lib/libomp.dylib' (no such file), '/System/Volumes/Preboot/Cryptexes/OS/opt/homebrew/opt/libomp/lib/libomp.dylib' (no such file), '/opt/homebrew/opt/libomp/lib/libomp.dylib' (no such file), '/usr/lib/libomp.dylib' (no such file, not in dyld cache)"
     ]
    }
   ],
   "source": [
    "import sys\n",
    "import numpy as np\n",
    "\n",
    "sys.path.insert(0,\"../\")\n",
    "from utils import shape_stochastics"
   ]
  },
  {
   "cell_type": "markdown",
   "id": "949358cd",
   "metadata": {},
   "source": [
    "## Q-Wiener process on spherical harmonic basis applied to the sphere"
   ]
  },
  {
   "cell_type": "code",
   "execution_count": null,
   "id": "099b5a2b",
   "metadata": {},
   "outputs": [],
   "source": [
    "theta, phi = shape_stochastics.make_grid(N=32) #Build a grid on the sphere with a given resolution given by N\n",
    "\n",
    "### Shape defined through 3 separated functions giving the xyz coordinates ###\n",
    "def sphere_function_x(theta, phi):\n",
    "    return np.sin(theta)*np.cos(phi)\n",
    "\n",
    "def sphere_function_y(theta, phi):\n",
    "    return np.sin(theta)*np.sin(phi)\n",
    "\n",
    "def sphere_function_z(theta, phi):\n",
    "    return np.cos(theta)\n",
    "\n",
    "n = 225 #choose a resolution for the sph decomposition (HAS TO BE A SQUARED NUMBER FOR ISOTROPIC NOISE !!!)\n",
    "Q = np.eye(n)\n",
    "lambdas = np.array([1/((k+2)*(k+1)) for k in range (0,n)])\n",
    "Q = np.diag(lambdas)"
   ]
  },
  {
   "cell_type": "code",
   "execution_count": null,
   "id": "9996bfaf",
   "metadata": {},
   "outputs": [
    {
     "data": {
      "text/plain": [
       "array([[[ 8.56412533e-17,  1.01168322e-01,  2.01298520e-01, ...,\n",
       "          2.00298223e-01,  1.00665594e-01,  6.37079957e-18],\n",
       "        [ 1.46368130e-18, -7.05212640e-18, -2.64287051e-17, ...,\n",
       "         -2.00428602e-02, -1.00731120e-02,  2.62851617e-18],\n",
       "        [ 1.00000000e+00,  9.94869323e-01,  9.79529941e-01, ...,\n",
       "         -9.79529941e-01, -9.94869323e-01, -1.00000000e+00]],\n",
       "\n",
       "       [[ 6.26584899e-02,  1.64000666e-01,  2.63821561e-01, ...,\n",
       "          2.31991128e-01,  1.33247200e-01,  3.37139222e-02],\n",
       "        [-5.99639645e-02, -5.97978029e-02, -5.95886383e-02, ...,\n",
       "         -6.73824136e-02, -5.55798436e-02, -4.37424843e-02],\n",
       "        [ 9.55105047e-01,  9.48073014e-01,  9.31096324e-01, ...,\n",
       "         -9.92768882e-01, -1.00835061e+00, -1.01383021e+00]],\n",
       "\n",
       "       [[-3.66860561e-03,  9.70347481e-02,  1.96277609e-01, ...,\n",
       "          1.73887717e-01,  7.37193180e-02, -2.70989858e-02],\n",
       "        [-6.13245588e-02, -5.91759626e-02, -5.68638376e-02, ...,\n",
       "         -5.38317685e-02, -4.26034421e-02, -3.16505813e-02],\n",
       "        [ 1.08035065e+00,  1.07280882e+00,  1.05550855e+00, ...,\n",
       "         -8.60639759e-01, -8.77458047e-01, -8.83812409e-01]],\n",
       "\n",
       "       ...,\n",
       "\n",
       "       [[ 2.80927895e-01,  3.81166146e-01,  4.75755523e-01, ...,\n",
       "          1.34495541e-01,  3.03170901e-02, -7.45940495e-02],\n",
       "        [ 2.09516035e-02,  2.30189873e-02,  2.58214772e-02, ...,\n",
       "         -4.89013407e-02, -3.74959420e-02, -2.35962529e-02],\n",
       "        [ 1.32795111e+00,  1.31996739e+00,  1.30127790e+00, ...,\n",
       "         -6.90990613e-01, -7.08568878e-01, -7.16394952e-01]],\n",
       "\n",
       "       [[ 3.19563921e-01,  4.20554031e-01,  5.15533278e-01, ...,\n",
       "          1.24714761e-01,  1.99866868e-02, -8.51859054e-02],\n",
       "        [ 6.66051556e-02,  6.65855842e-02,  6.71453637e-02, ...,\n",
       "         -3.79710239e-02, -2.46698478e-02, -8.27391965e-03],\n",
       "        [ 1.35914272e+00,  1.35096746e+00,  1.33230402e+00, ...,\n",
       "         -6.73968909e-01, -6.91530780e-01, -6.99066699e-01]],\n",
       "\n",
       "       [[ 3.22406377e-01,  4.23954037e-01,  5.19262820e-01, ...,\n",
       "          1.09444197e-01,  4.62382009e-03, -1.00338082e-01],\n",
       "        [ 5.26848716e-02,  5.14325282e-02,  5.07464013e-02, ...,\n",
       "         -5.44615264e-02, -4.05095218e-02, -2.33845172e-02],\n",
       "        [ 1.33357088e+00,  1.32436900e+00,  1.30473572e+00, ...,\n",
       "         -7.39826619e-01, -7.58131850e-01, -7.66043363e-01]]])"
      ]
     },
     "execution_count": 14,
     "metadata": {},
     "output_type": "execute_result"
    }
   ],
   "source": [
    "### Compute the Q-Wiener process and output the list of meshes during the process and a .gif file \n",
    "shape_stochastics.compute_wiener_process(sphere_function_x, sphere_function_y, sphere_function_z,\n",
    "                                         theta = theta, phi = phi, Q = Q, n = n, t=120, n_step=50, make_gif = True,\n",
    "                                         file_dir = \"tests/wiener_process\", file_name = \"Q_squared_225coeffs.gif\")"
   ]
  },
  {
   "cell_type": "markdown",
   "id": "3ebe6d9f",
   "metadata": {},
   "source": [
    "## Q-brownian bridge process between 2 functional shapes"
   ]
  },
  {
   "cell_type": "code",
   "execution_count": null,
   "id": "8d53e011",
   "metadata": {},
   "outputs": [],
   "source": [
    "theta, phi = shape_stochastics.make_grid(N=32)\n",
    "n = 25\n",
    "lambdas = np.array([1/(np.sqrt(k+1)) for k in range (0,n)])\n",
    "Q = np.diag(lambdas) #covariance operator\n",
    "Q = np.eye(n)\n",
    "\n",
    "def sphere_function_x_start(theta, phi):\n",
    "    return np.sin(theta)*np.cos(phi)\n",
    "\n",
    "def sphere_function_y_start(theta, phi):\n",
    "    return np.sin(theta)*np.sin(phi)\n",
    "\n",
    "def sphere_function_z_start(theta, phi):\n",
    "    return np.cos(theta)\n",
    "\n",
    "def sphere_function_x_end(theta, phi):\n",
    "    return 2*np.sin(theta)*np.cos(phi)\n",
    "\n",
    "def sphere_function_y_end(theta, phi):\n",
    "    return 2*np.sin(theta)*np.sin(phi)\n",
    "\n",
    "def sphere_function_z_end(theta, phi):\n",
    "    return 2*np.cos(theta)"
   ]
  },
  {
   "cell_type": "code",
   "execution_count": null,
   "id": "0102cc9e",
   "metadata": {},
   "outputs": [
    {
     "data": {
      "text/plain": [
       "array([[[-1.04258768e-17,  1.01168327e-01,  2.01298529e-01, ...,\n",
       "          2.00298232e-01,  1.00665598e-01, -3.65372979e-19],\n",
       "        [ 9.21128938e-18,  5.96551583e-18,  3.18731194e-18, ...,\n",
       "         -2.00428611e-02, -1.00731124e-02,  2.57079030e-18],\n",
       "        [ 1.00000005e+00,  9.94869369e-01,  9.79529986e-01, ...,\n",
       "         -9.79529986e-01, -9.94869369e-01, -1.00000005e+00]],\n",
       "\n",
       "       [[ 1.30165384e-01,  2.24969144e-01,  3.03566884e-01, ...,\n",
       "          4.28767192e-01,  2.94516090e-01,  1.30268073e-01],\n",
       "        [ 4.21473406e-01,  4.04426592e-01,  3.55426832e-01, ...,\n",
       "         -1.11159234e-01, -3.51198874e-02,  2.11053656e-02],\n",
       "        [ 8.80872517e-01,  8.20756605e-01,  7.46941719e-01, ...,\n",
       "         -1.03992208e+00, -1.10930307e+00, -1.16566718e+00]],\n",
       "\n",
       "       [[-6.84797353e-02,  8.94959893e-03,  8.74835792e-02, ...,\n",
       "          5.52517773e-01,  3.82962304e-01,  1.69025910e-01],\n",
       "        [ 3.84754852e-01,  3.95460766e-01,  3.82155714e-01, ...,\n",
       "         -4.17023235e-01, -3.80753044e-01, -3.28994495e-01],\n",
       "        [ 1.17611344e+00,  1.11204675e+00,  1.01389376e+00, ...,\n",
       "         -9.50237319e-01, -1.04046294e+00, -1.11569167e+00]],\n",
       "\n",
       "       ...,\n",
       "\n",
       "       [[ 4.79844855e-01,  7.03135224e-01,  9.11473210e-01, ...,\n",
       "          2.95056724e-02, -2.63037786e-01, -5.36239247e-01],\n",
       "        [ 3.54731297e-01,  3.74350005e-01,  3.91571086e-01, ...,\n",
       "         -4.87218570e-01, -5.67575785e-01, -5.84257469e-01],\n",
       "        [ 1.89840610e+00,  1.76963301e+00,  1.64897243e+00, ...,\n",
       "         -1.83514851e+00, -1.91115641e+00, -1.98738485e+00]],\n",
       "\n",
       "       [[-1.03816096e-01,  1.68306886e-01,  4.54671931e-01, ...,\n",
       "          3.64579811e-01,  2.07182496e-01,  5.53367432e-02],\n",
       "        [ 1.78539127e-01,  2.19809656e-01,  2.23743987e-01, ...,\n",
       "          5.78114294e-02,  1.21907744e-01,  1.94665323e-01],\n",
       "        [ 1.92912632e+00,  1.86482401e+00,  1.77645607e+00, ...,\n",
       "         -1.92947075e+00, -1.95143819e+00, -1.97304260e+00]],\n",
       "\n",
       "       [[-2.08517535e-17,  2.02336653e-01,  4.02597059e-01, ...,\n",
       "          4.00596463e-01,  2.01331197e-01, -7.30745958e-19],\n",
       "        [ 1.84225788e-17,  1.19310317e-17,  6.37462389e-18, ...,\n",
       "         -4.00857222e-02, -2.01462248e-02,  5.14158061e-18],\n",
       "        [ 2.00000009e+00,  1.98973874e+00,  1.95905997e+00, ...,\n",
       "         -1.95905997e+00, -1.98973874e+00, -2.00000009e+00]]])"
      ]
     },
     "execution_count": 3,
     "metadata": {},
     "output_type": "execute_result"
    }
   ],
   "source": [
    "### Compute the Q-Wiener bridge process and output the list of meshes during the process and a .gif file \n",
    "shape_stochastics.compute_simplebridge(sphere_function_x_start, sphere_function_y_start, sphere_function_z_start,\n",
    "                                         sphere_function_x_end, sphere_function_y_end, sphere_function_z_end,\n",
    "                                         theta = theta, phi = phi, Q = Q, n = n)"
   ]
  },
  {
   "cell_type": "code",
   "execution_count": null,
   "id": "778830a6",
   "metadata": {},
   "outputs": [],
   "source": []
  },
  {
   "cell_type": "code",
   "execution_count": null,
   "id": "e58ff834",
   "metadata": {},
   "outputs": [],
   "source": []
  },
  {
   "cell_type": "code",
   "execution_count": null,
   "id": "c9df67aa",
   "metadata": {},
   "outputs": [],
   "source": []
  },
  {
   "cell_type": "code",
   "execution_count": null,
   "id": "e155aac3",
   "metadata": {},
   "outputs": [],
   "source": []
  },
  {
   "cell_type": "code",
   "execution_count": null,
   "id": "c43e7db6",
   "metadata": {},
   "outputs": [],
   "source": []
  },
  {
   "cell_type": "code",
   "execution_count": null,
   "id": "6442fb0b",
   "metadata": {},
   "outputs": [],
   "source": []
  },
  {
   "cell_type": "code",
   "execution_count": null,
   "id": "ca3c71a9",
   "metadata": {},
   "outputs": [],
   "source": []
  }
 ],
 "metadata": {
  "kernelspec": {
   "display_name": "Python 3.9.13 ('env': venv)",
   "language": "python",
   "name": "python3"
  },
  "language_info": {
   "codemirror_mode": {
    "name": "ipython",
    "version": 3
   },
   "file_extension": ".py",
   "mimetype": "text/x-python",
   "name": "python",
   "nbconvert_exporter": "python",
   "pygments_lexer": "ipython3",
   "version": "3.9.13"
  },
  "vscode": {
   "interpreter": {
    "hash": "ba7e0ec10ec8c8c9fd3a50e675ee828bde848cff78e9e15e3bebcf00de9b0156"
   }
  }
 },
 "nbformat": 4,
 "nbformat_minor": 5
}
