{
 "cells": [
  {
   "cell_type": "code",
   "execution_count": 26,
   "id": "968201f1",
   "metadata": {},
   "outputs": [],
   "source": [
    "import sys\n",
    "import numpy as np\n",
    "import scipy\n",
    "\n",
    "sys.path.insert(0,\"../\")\n",
    "from utils import shape_stochastics"
   ]
  },
  {
   "cell_type": "code",
   "execution_count": 27,
   "id": "b45f4c24",
   "metadata": {},
   "outputs": [],
   "source": [
    "source = scipy.io.loadmat(\"../data/test_data/cat1_50_99.mat\")['f']"
   ]
  },
  {
   "cell_type": "code",
   "execution_count": 28,
   "id": "e64ccadc",
   "metadata": {},
   "outputs": [
    {
     "data": {
      "text/plain": [
       "array([[-0.0012771 , -0.0012771 , -0.0012771 , ..., -0.0012771 ,\n",
       "        -0.0012771 , -0.0012771 ],\n",
       "       [ 0.0046929 ,  0.00444385,  0.00417636, ...,  0.00532377,\n",
       "         0.00513337,  0.0046929 ],\n",
       "       [ 0.01676437,  0.0160726 ,  0.01533174, ...,  0.01853023,\n",
       "         0.01799456,  0.01676437],\n",
       "       ...,\n",
       "       [ 0.0214812 ,  0.02052574,  0.02019822, ...,  0.02340413,\n",
       "         0.02303971,  0.0214812 ],\n",
       "       [ 0.00514558,  0.00554049,  0.00589762, ...,  0.00374373,\n",
       "         0.00424614,  0.00514558],\n",
       "       [-0.01846699, -0.01846699, -0.01846699, ..., -0.01846699,\n",
       "        -0.01846699, -0.01846699]])"
      ]
     },
     "execution_count": 28,
     "metadata": {},
     "output_type": "execute_result"
    }
   ],
   "source": [
    "source[0]"
   ]
  },
  {
   "cell_type": "code",
   "execution_count": 37,
   "id": "8d3f7d7b",
   "metadata": {},
   "outputs": [],
   "source": [
    "basis_sph = scipy.io.loadmat(\"../data/test_data/basis_exact_1forms_deg25_50_99.mat\")['Basis_Sph']"
   ]
  },
  {
   "cell_type": "code",
   "execution_count": 38,
   "id": "e9faffdc",
   "metadata": {},
   "outputs": [],
   "source": [
    "basis = scipy.io.loadmat(\"../data/test_data/basis_exact_1forms_deg25_50_99.mat\")['Basis']"
   ]
  },
  {
   "cell_type": "code",
   "execution_count": 41,
   "id": "ee2ddd52",
   "metadata": {},
   "outputs": [
    {
     "data": {
      "text/plain": [
       "(2025, 3, 50, 99)"
      ]
     },
     "execution_count": 41,
     "metadata": {},
     "output_type": "execute_result"
    }
   ],
   "source": [
    "basis_sph.shape"
   ]
  },
  {
   "cell_type": "code",
   "execution_count": null,
   "id": "99068508",
   "metadata": {},
   "outputs": [],
   "source": []
  },
  {
   "cell_type": "code",
   "execution_count": null,
   "id": "da5059bc",
   "metadata": {},
   "outputs": [],
   "source": [
    "(x_mesh, y_mesh, z_mesh) = source[0,:,:], source[1,:,:], source[2,:,:]\n",
    "\n",
    "# Take a look at your original mesh\n",
    "fig = plt.figure(figsize=(16,12))\n",
    "\n",
    "ax1 = fig.add_subplot(211, projection='3d')\n",
    "ax1.scatter(x_mesh, y_mesh, z_mesh, s = 5)\n",
    "#ax1.view_init(20, 30, 'z')\n",
    "\n",
    "#ax2 = fig.add_subplot(212, projection='3d')\n",
    "#ax2.plot_trisurf(x_mesh, y_mesh, triangles=new_mesh_F , Z=z_mesh)\n",
    "#ax2.view_init(20, 30, 'z')\n",
    "\n",
    "plt.tight_layout()\n",
    "plt.show()"
   ]
  }
 ],
 "metadata": {
  "kernelspec": {
   "display_name": "Python 3 (ipykernel)",
   "language": "python",
   "name": "python3"
  },
  "language_info": {
   "codemirror_mode": {
    "name": "ipython",
    "version": 3
   },
   "file_extension": ".py",
   "mimetype": "text/x-python",
   "name": "python",
   "nbconvert_exporter": "python",
   "pygments_lexer": "ipython3",
   "version": "3.8.10"
  }
 },
 "nbformat": 4,
 "nbformat_minor": 5
}
