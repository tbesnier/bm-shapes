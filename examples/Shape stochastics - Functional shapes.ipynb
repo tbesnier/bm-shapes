{
 "cells": [
  {
   "cell_type": "markdown",
   "id": "dbfa97b1",
   "metadata": {},
   "source": [
    "# Basic stochastic processes between shapes described as simple functions in $L^2(\\mathbb{S}^2, \\mathbb{R}^3)$."
   ]
  },
  {
   "cell_type": "code",
   "execution_count": 1,
   "id": "12785c82",
   "metadata": {},
   "outputs": [
    {
     "name": "stdout",
     "output_type": "stream",
     "text": [
      "Jupyter environment detected. Enabling Open3D WebVisualizer.\n",
      "[Open3D INFO] WebRTC GUI backend enabled.\n",
      "[Open3D INFO] WebRTCWindowSystem: HTTP handshake server disabled.\n"
     ]
    }
   ],
   "source": [
    "import sys\n",
    "import numpy as np\n",
    "\n",
    "sys.path.insert(0,\"../\")\n",
    "from utils import shape_stochastics"
   ]
  },
  {
   "cell_type": "markdown",
   "id": "949358cd",
   "metadata": {},
   "source": [
    "## Q-Wiener process on spherical harmonic basis applied to the sphere"
   ]
  },
  {
   "cell_type": "code",
   "execution_count": 2,
   "id": "099b5a2b",
   "metadata": {},
   "outputs": [],
   "source": [
    "theta, phi = shape_stochastics.make_grid(N=64) #Build a grid on the sphere with a given resolution given by N\n",
    "\n",
    "### Shape defined through 3 separated functions giving the xyz coordinates ###\n",
    "def sphere_function_x(theta, phi):\n",
    "    return np.sin(theta)*np.cos(phi)\n",
    "\n",
    "def sphere_function_y(theta, phi):\n",
    "    return np.sin(theta)*np.sin(phi)\n",
    "\n",
    "def sphere_function_z(theta, phi):\n",
    "    return np.cos(theta)\n",
    "\n",
    "n = 25 #choose a resolution for the sph decomposition (HAS TO BE A SQUARED NUMBER FOR ISOTROPIC NOISE !!!)\n",
    "Q = np.eye(n)\n",
    "#Q = np.diag(np.array([1/((k+2)*(k+1)) for k in range (0,n)]))"
   ]
  },
  {
   "cell_type": "code",
   "execution_count": 3,
   "id": "8e10876b",
   "metadata": {},
   "outputs": [
    {
     "data": {
      "text/plain": [
       "array([0.00000000e+00, 4.98458857e-02, 9.95678466e-02, ...,\n",
       "       9.94460170e-02, 4.97848950e-02, 1.22314834e-16])"
      ]
     },
     "execution_count": 3,
     "metadata": {},
     "output_type": "execute_result"
    }
   ],
   "source": [
    "sphere_function_x(theta,phi)"
   ]
  },
  {
   "cell_type": "code",
   "execution_count": 4,
   "id": "9996bfaf",
   "metadata": {},
   "outputs": [
    {
     "data": {
      "text/plain": [
       "array([[[ 1.07570697e-17,  4.98458857e-02,  9.95678466e-02, ...,\n",
       "          9.94460170e-02,  4.97848950e-02, -1.42261677e-17],\n",
       "        [ 3.62425138e-18,  1.39199870e-18, -4.58861234e-19, ...,\n",
       "         -4.92400040e-03, -2.46506447e-03,  4.19052257e-18],\n",
       "        [ 1.00000000e+00,  9.98756921e-01,  9.95030775e-01, ...,\n",
       "         -9.95030775e-01, -9.98756921e-01, -1.00000000e+00]],\n",
       "\n",
       "       [[ 7.55290432e-02,  1.23279509e-01,  1.70170003e-01, ...,\n",
       "          5.76337169e-02,  9.51125408e-03, -3.91441888e-02],\n",
       "        [-3.44543782e-02, -2.40404289e-02, -1.31129733e-02, ...,\n",
       "          4.25506153e-02,  3.93215189e-02,  3.47324525e-02],\n",
       "        [ 1.02214940e+00,  1.02308979e+00,  1.02066823e+00, ...,\n",
       "         -1.06703940e+00, -1.07503076e+00, -1.07984717e+00]],\n",
       "\n",
       "       [[ 9.96976519e-02,  1.40481264e-01,  1.79676948e-01, ...,\n",
       "          3.65616168e-03, -5.20291325e-02, -1.08934562e-01],\n",
       "        [-6.37582971e-02, -5.90225442e-02, -5.29195415e-02, ...,\n",
       "          5.09752995e-02,  4.31808761e-02,  3.41153805e-02],\n",
       "        [ 1.10408872e+00,  1.10603918e+00,  1.10357295e+00, ...,\n",
       "         -9.63660387e-01, -9.67633782e-01, -9.69480733e-01]],\n",
       "\n",
       "       ...,\n",
       "\n",
       "       [[ 1.62761335e-01,  2.10772832e-01,  2.57978111e-01, ...,\n",
       "         -9.17500334e-02, -1.49542548e-01, -2.08005120e-01],\n",
       "        [-1.77544769e-02, -2.49162388e-02, -2.98644355e-02, ...,\n",
       "         -4.53840904e-02, -7.25343810e-02, -9.91639618e-02],\n",
       "        [ 1.12366033e+00,  1.12019098e+00,  1.10878051e+00, ...,\n",
       "         -7.47294780e-01, -7.47778473e-01, -7.49844163e-01]],\n",
       "\n",
       "       [[ 1.03461748e-01,  1.54506568e-01,  2.04547548e-01, ...,\n",
       "         -1.82034483e-01, -2.40625183e-01, -2.99037454e-01],\n",
       "        [-2.98145093e-03, -7.35229279e-03, -9.82901985e-03, ...,\n",
       "         -5.70072851e-02, -8.18734407e-02, -1.06148596e-01],\n",
       "        [ 1.11290857e+00,  1.10206333e+00,  1.08371336e+00, ...,\n",
       "         -7.48655417e-01, -7.53691205e-01, -7.60236375e-01]],\n",
       "\n",
       "       [[ 4.91438141e-02,  1.05803897e-01,  1.62315143e-01, ...,\n",
       "         -1.84948781e-01, -2.41927313e-01, -2.97861595e-01],\n",
       "        [-3.17196524e-02, -2.89096842e-02, -2.39072364e-02, ...,\n",
       "         -1.05889866e-01, -1.21896919e-01, -1.37218714e-01],\n",
       "        [ 1.18386101e+00,  1.17476266e+00,  1.15521498e+00, ...,\n",
       "         -7.40562992e-01, -7.37146084e-01, -7.36344626e-01]]])"
      ]
     },
     "execution_count": 4,
     "metadata": {},
     "output_type": "execute_result"
    }
   ],
   "source": [
    "### Compute the Q-Wiener process and output the list of meshes during the process and a .gif file \n",
    "shape_stochastics.compute_wiener_process(sphere_function_x, sphere_function_y, sphere_function_z,\n",
    "                                         theta = theta, phi = phi, Q = Q, n = n, t=1, n_step=10, make_gif = True,\n",
    "                                         file_dir = \"tests/wiener_process\", file_name = \"test.gif\")"
   ]
  },
  {
   "cell_type": "markdown",
   "id": "3ebe6d9f",
   "metadata": {},
   "source": [
    "## Q-brownian bridge process between 2 functional shapes"
   ]
  },
  {
   "cell_type": "code",
   "execution_count": 2,
   "id": "8d53e011",
   "metadata": {},
   "outputs": [],
   "source": [
    "theta, phi = shape_stochastics.make_grid(N=32)\n",
    "n = 25\n",
    "lambdas = np.array([1/(np.sqrt(k+1)) for k in range (0,n)])\n",
    "Q = np.diag(lambdas) #covariance operator\n",
    "Q = np.eye(n)\n",
    "\n",
    "def sphere_function_x_start(theta, phi):\n",
    "    return np.sin(theta)*np.cos(phi)\n",
    "\n",
    "def sphere_function_y_start(theta, phi):\n",
    "    return np.sin(theta)*np.sin(phi)\n",
    "\n",
    "def sphere_function_z_start(theta, phi):\n",
    "    return np.cos(theta)\n",
    "\n",
    "def sphere_function_x_end(theta, phi):\n",
    "    return 2*np.sin(theta)*np.cos(phi)\n",
    "\n",
    "def sphere_function_y_end(theta, phi):\n",
    "    return 2*np.sin(theta)*np.sin(phi)\n",
    "\n",
    "def sphere_function_z_end(theta, phi):\n",
    "    return 2*np.cos(theta)"
   ]
  },
  {
   "cell_type": "code",
   "execution_count": 3,
   "id": "0102cc9e",
   "metadata": {},
   "outputs": [
    {
     "data": {
      "text/plain": [
       "array([[[ 1.07570722e-17,  1.01168327e-01,  2.01298529e-01, ...,\n",
       "          2.00298232e-01,  1.00665598e-01, -1.42261643e-17],\n",
       "        [ 3.62425013e-18, -5.14751437e-19, -4.07711949e-18, ...,\n",
       "         -2.00428611e-02, -1.00731124e-02,  4.19052129e-18],\n",
       "        [ 1.00000005e+00,  9.94869369e-01,  9.79529986e-01, ...,\n",
       "         -9.79529986e-01, -9.94869369e-01, -1.00000005e+00]],\n",
       "\n",
       "       [[-4.68399524e-02,  9.01370115e-02,  2.41077250e-01, ...,\n",
       "          5.98031473e-01,  4.63007573e-01,  3.19157564e-01],\n",
       "        [-7.64469559e-02, -7.07861187e-02, -6.07100393e-02, ...,\n",
       "          2.30048047e-01,  2.23521854e-01,  1.89961490e-01],\n",
       "        [ 1.03799973e+00,  9.87900622e-01,  9.22392571e-01, ...,\n",
       "         -1.05049300e+00, -1.12929182e+00, -1.20104774e+00]],\n",
       "\n",
       "       [[-1.16173436e-01,  9.38086280e-02,  3.01803771e-01, ...,\n",
       "          7.20130685e-01,  6.54336287e-01,  5.71531436e-01],\n",
       "        [-2.09698286e-01, -1.67227374e-01, -1.29197955e-01, ...,\n",
       "          4.95913319e-03,  8.50934569e-02,  1.35058701e-01],\n",
       "        [ 1.21309096e+00,  1.11339732e+00,  9.86439881e-01, ...,\n",
       "         -1.04420891e+00, -1.06373484e+00, -1.09932410e+00]],\n",
       "\n",
       "       ...,\n",
       "\n",
       "       [[-2.34675378e-01, -4.73412829e-02,  1.48918444e-01, ...,\n",
       "          6.72904604e-01,  4.07203284e-01,  1.18388495e-01],\n",
       "        [ 1.21505346e-01,  2.57236191e-01,  3.79311451e-01, ...,\n",
       "         -7.36326683e-01, -6.75238543e-01, -5.70699245e-01],\n",
       "        [ 2.04650092e+00,  2.05728271e+00,  2.06015740e+00, ...,\n",
       "         -2.28398086e+00, -2.28623059e+00, -2.23588720e+00]],\n",
       "\n",
       "       [[-3.04865428e-01, -1.19949541e-01,  8.07976792e-02, ...,\n",
       "          4.72737592e-01,  2.36665929e-01, -2.10976719e-02],\n",
       "        [-3.75805827e-01, -3.02840577e-01, -2.20252382e-01, ...,\n",
       "         -3.33695817e-01, -2.46476625e-01, -1.47693043e-01],\n",
       "        [ 2.04283808e+00,  2.05771717e+00,  2.03685372e+00, ...,\n",
       "         -2.39504521e+00, -2.42281139e+00, -2.40932079e+00]],\n",
       "\n",
       "       [[ 2.15141443e-17,  2.02336653e-01,  4.02597059e-01, ...,\n",
       "          4.00596463e-01,  2.01331197e-01, -2.84523286e-17],\n",
       "        [ 7.24850025e-18, -1.02950287e-18, -8.15423899e-18, ...,\n",
       "         -4.00857222e-02, -2.01462248e-02,  8.38104257e-18],\n",
       "        [ 2.00000009e+00,  1.98973874e+00,  1.95905997e+00, ...,\n",
       "         -1.95905997e+00, -1.98973874e+00, -2.00000009e+00]]])"
      ]
     },
     "execution_count": 3,
     "metadata": {},
     "output_type": "execute_result"
    }
   ],
   "source": [
    "### Compute the Q-Wiener bridge process and output the list of meshes during the process and a .gif file \n",
    "shape_stochastics.compute_simplebridge(sphere_function_x_start, sphere_function_y_start, sphere_function_z_start,\n",
    "                                         sphere_function_x_end, sphere_function_y_end, sphere_function_z_end,\n",
    "                                         theta = theta, phi = phi, Q = Q, n = n)"
   ]
  },
  {
   "cell_type": "markdown",
   "id": "71cf9ecd",
   "metadata": {},
   "source": [
    "## Fractional spectral Wiener process in H²"
   ]
  },
  {
   "cell_type": "code",
   "execution_count": 11,
   "id": "e58ff834",
   "metadata": {},
   "outputs": [],
   "source": [
    "theta, phi = shape_stochastics.make_grid(N=64) #Build a grid on the sphere with a given resolution given by N\n",
    "\n",
    "### Shape defined through 3 separated functions giving the xyz coordinates ###\n",
    "def sphere_function_x(theta, phi):\n",
    "    return np.sin(theta)*np.cos(phi)\n",
    "\n",
    "def sphere_function_y(theta, phi):\n",
    "    return np.sin(theta)*np.sin(phi)\n",
    "\n",
    "def sphere_function_z(theta, phi):\n",
    "    return np.cos(theta)\n",
    "\n",
    "n = 49 #choose a resolution for the sph decomposition (HAS TO BE A SQUARED NUMBER FOR ISOTROPIC NOISE !!!)\n",
    "#Q = np.eye(n)\n",
    "lambdas = np.array([1/np.sqrt((k+2)*(k+1)) for k in range (0,n)])\n",
    "Q = np.diag(lambdas)\n",
    "H = 0.3"
   ]
  },
  {
   "cell_type": "code",
   "execution_count": 12,
   "id": "c9df67aa",
   "metadata": {},
   "outputs": [
    {
     "data": {
      "text/plain": [
       "array([[[ 7.87564055e-02,  1.16987424e-01,  1.55600750e-01, ...,\n",
       "          1.06330696e-01,  5.30669793e-02, -8.93868278e-04],\n",
       "        [-2.05907582e-02, -1.85776021e-02, -1.68710860e-02, ...,\n",
       "         -9.33046076e-02, -9.51546330e-02, -9.72117061e-02],\n",
       "        [ 9.71414667e-01,  9.75990264e-01,  9.78917366e-01, ...,\n",
       "         -9.51719308e-01, -9.58759518e-01, -9.63004456e-01]],\n",
       "\n",
       "       [[ 8.38134376e-02,  1.21501153e-01,  1.58800704e-01, ...,\n",
       "          9.72319814e-02,  4.49902572e-02, -7.20422577e-03],\n",
       "        [ 1.38284688e-02,  2.07172503e-02,  2.59712636e-02, ...,\n",
       "         -3.08180274e-02, -2.72788451e-02, -2.40754587e-02],\n",
       "        [ 1.17386283e+00,  1.17499879e+00,  1.17331390e+00, ...,\n",
       "         -9.46842133e-01, -9.49985898e-01, -9.50076221e-01]],\n",
       "\n",
       "       [[ 1.34521626e-01,  1.70958084e-01,  2.06424671e-01, ...,\n",
       "          7.01481989e-02,  1.39801689e-02, -4.26176962e-02],\n",
       "        [-7.05105428e-02, -6.64471008e-02, -6.18666449e-02, ...,\n",
       "         -8.47540148e-02, -8.39840217e-02, -8.31720295e-02],\n",
       "        [ 1.26603752e+00,  1.25573452e+00,  1.24180080e+00, ...,\n",
       "         -9.73186110e-01, -9.76858371e-01, -9.77407241e-01]],\n",
       "\n",
       "       ...,\n",
       "\n",
       "       [[-1.00989378e-01, -6.76531125e-02, -2.66627174e-02, ...,\n",
       "         -1.47739922e-01, -2.12261938e-01, -2.72571485e-01],\n",
       "        [ 3.95616887e-01,  4.00751318e-01,  4.08983374e-01, ...,\n",
       "          9.44281747e-02,  8.43476288e-02,  7.64543409e-02],\n",
       "        [ 1.29917309e+00,  1.27179179e+00,  1.23883926e+00, ...,\n",
       "         -1.06601286e+00, -1.06179205e+00, -1.05574276e+00]],\n",
       "\n",
       "       [[-6.37806648e-02, -2.68200368e-02,  1.74321464e-02, ...,\n",
       "         -2.75364151e-01, -3.37368943e-01, -3.93915159e-01],\n",
       "        [ 2.77307625e-01,  2.79736900e-01,  2.86270343e-01, ...,\n",
       "          9.99188000e-02,  9.54092025e-02,  9.28067525e-02],\n",
       "        [ 1.32213188e+00,  1.29239506e+00,  1.25674396e+00, ...,\n",
       "         -1.12141040e+00, -1.11646894e+00, -1.10946138e+00]],\n",
       "\n",
       "       [[-1.42915517e-01, -1.04365754e-01, -5.80096130e-02, ...,\n",
       "         -3.94338900e-01, -4.56899796e-01, -5.14117761e-01],\n",
       "        [ 3.23571240e-01,  3.25294560e-01,  3.30357479e-01, ...,\n",
       "          2.91256691e-02,  2.33919053e-02,  1.95568830e-02],\n",
       "        [ 1.36771961e+00,  1.33957626e+00,  1.30607507e+00, ...,\n",
       "         -1.03735111e+00, -1.03314466e+00, -1.02720244e+00]]])"
      ]
     },
     "execution_count": 12,
     "metadata": {},
     "output_type": "execute_result"
    }
   ],
   "source": [
    "### Compute the Q-Wiener process and output the list of meshes during the process and a .gif file \n",
    "shape_stochastics.compute_fractional_process(sphere_function_x, sphere_function_y, sphere_function_z,\n",
    "                                         theta = theta, phi = phi, Q = Q, H = H, n = n, t=1.2, n_step=50, make_gif = True,\n",
    "                                         file_dir = \"tests/fractional_process_fshape\", file_name = \"test.gif\")"
   ]
  },
  {
   "cell_type": "code",
   "execution_count": null,
   "id": "ca3c71a9",
   "metadata": {},
   "outputs": [],
   "source": []
  }
 ],
 "metadata": {
  "kernelspec": {
   "display_name": "Python 3 (ipykernel)",
   "language": "python",
   "name": "python3"
  },
  "language_info": {
   "codemirror_mode": {
    "name": "ipython",
    "version": 3
   },
   "file_extension": ".py",
   "mimetype": "text/x-python",
   "name": "python",
   "nbconvert_exporter": "python",
   "pygments_lexer": "ipython3",
   "version": "3.8.10"
  },
  "vscode": {
   "interpreter": {
    "hash": "ba7e0ec10ec8c8c9fd3a50e675ee828bde848cff78e9e15e3bebcf00de9b0156"
   }
  }
 },
 "nbformat": 4,
 "nbformat_minor": 5
}
