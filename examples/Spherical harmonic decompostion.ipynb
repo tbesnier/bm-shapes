{
 "cells": [
  {
   "cell_type": "code",
   "execution_count": 41,
   "id": "c7ee1854",
   "metadata": {},
   "outputs": [],
   "source": [
    "import matplotlib.pyplot as plt\n",
    "import numpy as np\n",
    "from scipy.special import sph_harm\n",
    "from scipy.integrate import quad, dblquad\n",
    "\n",
    "import numpy as np\n",
    "import trimesh as tri\n",
    "import torch\n",
    "import open3d as o3d\n",
    "\n",
    "import matplotlib.pyplot as plt\n",
    "from mpl_toolkits.mplot3d import Axes3D\n",
    "\n",
    "import sys\n",
    "import os\n",
    "\n",
    "sys.path.insert(0,\"../\")\n",
    "import pyssht\n",
    "sphere = tri.creation.uv_sphere(count=[16, 16])"
   ]
  },
  {
   "cell_type": "code",
   "execution_count": 42,
   "id": "68a7d355",
   "metadata": {},
   "outputs": [
    {
     "data": {
      "text/plain": [
       "(-0.07635745268016919+0.0076612999759450824j)"
      ]
     },
     "execution_count": 42,
     "metadata": {},
     "output_type": "execute_result"
    }
   ],
   "source": [
    "np.conj(sph_harm(1, 2,0.1,0.1))"
   ]
  },
  {
   "cell_type": "code",
   "execution_count": 77,
   "id": "d514021d",
   "metadata": {},
   "outputs": [],
   "source": [
    "def sph_func(l,m):\n",
    "    def res(theta,phi):\n",
    "        return sph_harm(m,l, theta,phi)\n",
    "    return res"
   ]
  },
  {
   "cell_type": "code",
   "execution_count": 105,
   "id": "d8dc97fa",
   "metadata": {},
   "outputs": [],
   "source": [
    "def coeff(l,m,f):\n",
    "    return dblquad(lambda theta,phi: f(theta,phi)*np.abs(sph_harm(m,l,theta,phi))*np.sin(theta), 0,2*np.pi, lambda x: 0, lambda x: np.pi)[0]"
   ]
  },
  {
   "cell_type": "code",
   "execution_count": 106,
   "id": "10ba07cf",
   "metadata": {},
   "outputs": [],
   "source": [
    "f_test = lambda theta,phi: np.sin(theta)*np.cos(phi)"
   ]
  },
  {
   "cell_type": "code",
   "execution_count": 107,
   "id": "9c004a68",
   "metadata": {},
   "outputs": [
    {
     "data": {
      "text/plain": [
       "5.457233093817454e-17"
      ]
     },
     "execution_count": 107,
     "metadata": {},
     "output_type": "execute_result"
    }
   ],
   "source": [
    "coeff(5,2, f_test)"
   ]
  },
  {
   "cell_type": "code",
   "execution_count": 108,
   "id": "f4092b6f",
   "metadata": {},
   "outputs": [],
   "source": [
    "x, y ,z = np.array(sphere.vertices[:,0]), np.array(sphere.vertices[:,1]), np.array(sphere.vertices[:,2])\n",
    "(r, theta, phi) = pyssht.cart_to_spherical(x, y, z)"
   ]
  },
  {
   "cell_type": "code",
   "execution_count": 126,
   "id": "7532d569",
   "metadata": {},
   "outputs": [],
   "source": [
    "coeffs = []\n",
    "def reconstruct(l,f):\n",
    "    for m in range(-l,l+1,1):\n",
    "        def mult_func(theta,phi):\n",
    "            return(coeff(l,m,f)*sph_func(l,m)(theta,phi)) \n",
    "        coeffs.append(mult_func)\n",
    "    \n",
    "    def add_func(theta,phi):\n",
    "        return(np.sum(np.array([elt(theta,phi) for elt in coeffs]), axis=0))\n",
    "    return add_func"
   ]
  },
  {
   "cell_type": "code",
   "execution_count": null,
   "id": "c532396c",
   "metadata": {},
   "outputs": [],
   "source": []
  },
  {
   "cell_type": "code",
   "execution_count": null,
   "id": "e0d988d6",
   "metadata": {},
   "outputs": [],
   "source": []
  },
  {
   "cell_type": "code",
   "execution_count": null,
   "id": "fe1b8fc3",
   "metadata": {},
   "outputs": [],
   "source": []
  },
  {
   "cell_type": "code",
   "execution_count": null,
   "id": "247939d2",
   "metadata": {},
   "outputs": [],
   "source": []
  },
  {
   "cell_type": "code",
   "execution_count": null,
   "id": "bcf2f37c",
   "metadata": {},
   "outputs": [],
   "source": []
  },
  {
   "cell_type": "code",
   "execution_count": null,
   "id": "7f7bc531",
   "metadata": {},
   "outputs": [],
   "source": []
  }
 ],
 "metadata": {
  "kernelspec": {
   "display_name": "Python 3 (ipykernel)",
   "language": "python",
   "name": "python3"
  },
  "language_info": {
   "codemirror_mode": {
    "name": "ipython",
    "version": 3
   },
   "file_extension": ".py",
   "mimetype": "text/x-python",
   "name": "python",
   "nbconvert_exporter": "python",
   "pygments_lexer": "ipython3",
   "version": "3.8.10"
  }
 },
 "nbformat": 4,
 "nbformat_minor": 5
}
