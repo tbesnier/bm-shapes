{
 "cells": [
  {
   "cell_type": "markdown",
   "id": "dbfa97b1",
   "metadata": {},
   "source": [
    "# Basic stochastic processes between shapes described as simple functions in $L^2(\\mathbb{S}^2, \\mathbb{R}^3)$."
   ]
  },
  {
   "cell_type": "code",
   "execution_count": 1,
   "id": "12785c82",
   "metadata": {},
   "outputs": [
    {
     "name": "stdout",
     "output_type": "stream",
     "text": [
      "Jupyter environment detected. Enabling Open3D WebVisualizer.\n",
      "[Open3D INFO] WebRTC GUI backend enabled.\n",
      "[Open3D INFO] WebRTCWindowSystem: HTTP handshake server disabled.\n"
     ]
    }
   ],
   "source": [
    "import sys\n",
    "import numpy as np\n",
    "\n",
    "sys.path.insert(0,\"../\")\n",
    "from utils import shape_stochastics"
   ]
  },
  {
   "cell_type": "markdown",
   "id": "949358cd",
   "metadata": {},
   "source": [
    "## Q-Wiener process on spherical harmonic basis applied to the sphere"
   ]
  },
  {
   "cell_type": "code",
   "execution_count": null,
   "id": "099b5a2b",
   "metadata": {},
   "outputs": [],
   "source": [
    "theta, phi = shape_stochastics.make_grid(N=32) #Build a grid on the sphere with a given resolution given by N\n",
    "\n",
    "### Shape defined through 3 separated functions giving the xyz coordinates ###\n",
    "def sphere_function_x(theta, phi):\n",
    "    return np.sin(theta)*np.cos(phi)\n",
    "\n",
    "def sphere_function_y(theta, phi):\n",
    "    return np.sin(theta)*np.sin(phi)\n",
    "\n",
    "def sphere_function_z(theta, phi):\n",
    "    return np.cos(theta)\n",
    "\n",
    "n = 25 #choose a resolution for the sph decomposition (HAS TO BE A SQUARED NUMBER FOR ISOTROPIC NOISE !!!)\n",
    "Q = np.eye(n)"
   ]
  },
  {
   "cell_type": "code",
   "execution_count": null,
   "id": "9996bfaf",
   "metadata": {},
   "outputs": [],
   "source": [
    "### Compute the Q-Wiener process and output the list of meshes during the process and a .gif file \n",
    "shape_stochastics.compute_wiener_process(sphere_function_x, sphere_function_y, sphere_function_z,\n",
    "                                         theta = theta, phi = phi, Q = Q, n = n)"
   ]
  },
  {
   "cell_type": "markdown",
   "id": "3ebe6d9f",
   "metadata": {},
   "source": [
    "## Q-brownian bridge process between 2 functional shapes"
   ]
  },
  {
   "cell_type": "code",
   "execution_count": 2,
   "id": "8d53e011",
   "metadata": {},
   "outputs": [],
   "source": [
    "theta, phi = shape_stochastics.make_grid(N=32)\n",
    "n = 25\n",
    "lambdas = np.array([1/(np.sqrt(k+1)) for k in range (0,n)])\n",
    "Q = np.diag(lambdas) #covariance operator\n",
    "Q = np.eye(n)\n",
    "\n",
    "def sphere_function_x_start(theta, phi):\n",
    "    return np.sin(theta)*np.cos(phi)\n",
    "\n",
    "def sphere_function_y_start(theta, phi):\n",
    "    return np.sin(theta)*np.sin(phi)\n",
    "\n",
    "def sphere_function_z_start(theta, phi):\n",
    "    return np.cos(theta)\n",
    "\n",
    "def sphere_function_x_end(theta, phi):\n",
    "    return 2*np.sin(theta)*np.cos(phi)\n",
    "\n",
    "def sphere_function_y_end(theta, phi):\n",
    "    return 2*np.sin(theta)*np.sin(phi)\n",
    "\n",
    "def sphere_function_z_end(theta, phi):\n",
    "    return 2*np.cos(theta)"
   ]
  },
  {
   "cell_type": "code",
   "execution_count": 3,
   "id": "0102cc9e",
   "metadata": {},
   "outputs": [
    {
     "data": {
      "text/plain": [
       "array([[[-1.04258768e-17,  1.01168327e-01,  2.01298529e-01, ...,\n",
       "          2.00298232e-01,  1.00665598e-01, -3.65372979e-19],\n",
       "        [ 9.21128938e-18,  5.96551583e-18,  3.18731194e-18, ...,\n",
       "         -2.00428611e-02, -1.00731124e-02,  2.57079030e-18],\n",
       "        [ 1.00000005e+00,  9.94869369e-01,  9.79529986e-01, ...,\n",
       "         -9.79529986e-01, -9.94869369e-01, -1.00000005e+00]],\n",
       "\n",
       "       [[ 1.30165384e-01,  2.24969144e-01,  3.03566884e-01, ...,\n",
       "          4.28767192e-01,  2.94516090e-01,  1.30268073e-01],\n",
       "        [ 4.21473406e-01,  4.04426592e-01,  3.55426832e-01, ...,\n",
       "         -1.11159234e-01, -3.51198874e-02,  2.11053656e-02],\n",
       "        [ 8.80872517e-01,  8.20756605e-01,  7.46941719e-01, ...,\n",
       "         -1.03992208e+00, -1.10930307e+00, -1.16566718e+00]],\n",
       "\n",
       "       [[-6.84797353e-02,  8.94959893e-03,  8.74835792e-02, ...,\n",
       "          5.52517773e-01,  3.82962304e-01,  1.69025910e-01],\n",
       "        [ 3.84754852e-01,  3.95460766e-01,  3.82155714e-01, ...,\n",
       "         -4.17023235e-01, -3.80753044e-01, -3.28994495e-01],\n",
       "        [ 1.17611344e+00,  1.11204675e+00,  1.01389376e+00, ...,\n",
       "         -9.50237319e-01, -1.04046294e+00, -1.11569167e+00]],\n",
       "\n",
       "       ...,\n",
       "\n",
       "       [[ 4.79844855e-01,  7.03135224e-01,  9.11473210e-01, ...,\n",
       "          2.95056724e-02, -2.63037786e-01, -5.36239247e-01],\n",
       "        [ 3.54731297e-01,  3.74350005e-01,  3.91571086e-01, ...,\n",
       "         -4.87218570e-01, -5.67575785e-01, -5.84257469e-01],\n",
       "        [ 1.89840610e+00,  1.76963301e+00,  1.64897243e+00, ...,\n",
       "         -1.83514851e+00, -1.91115641e+00, -1.98738485e+00]],\n",
       "\n",
       "       [[-1.03816096e-01,  1.68306886e-01,  4.54671931e-01, ...,\n",
       "          3.64579811e-01,  2.07182496e-01,  5.53367432e-02],\n",
       "        [ 1.78539127e-01,  2.19809656e-01,  2.23743987e-01, ...,\n",
       "          5.78114294e-02,  1.21907744e-01,  1.94665323e-01],\n",
       "        [ 1.92912632e+00,  1.86482401e+00,  1.77645607e+00, ...,\n",
       "         -1.92947075e+00, -1.95143819e+00, -1.97304260e+00]],\n",
       "\n",
       "       [[-2.08517535e-17,  2.02336653e-01,  4.02597059e-01, ...,\n",
       "          4.00596463e-01,  2.01331197e-01, -7.30745958e-19],\n",
       "        [ 1.84225788e-17,  1.19310317e-17,  6.37462389e-18, ...,\n",
       "         -4.00857222e-02, -2.01462248e-02,  5.14158061e-18],\n",
       "        [ 2.00000009e+00,  1.98973874e+00,  1.95905997e+00, ...,\n",
       "         -1.95905997e+00, -1.98973874e+00, -2.00000009e+00]]])"
      ]
     },
     "execution_count": 3,
     "metadata": {},
     "output_type": "execute_result"
    }
   ],
   "source": [
    "### Compute the Q-Wiener bridge process and output the list of meshes during the process and a .gif file \n",
    "shape_stochastics.compute_simplebridge(sphere_function_x_start, sphere_function_y_start, sphere_function_z_start,\n",
    "                                         sphere_function_x_end, sphere_function_y_end, sphere_function_z_end,\n",
    "                                         theta = theta, phi = phi, Q = Q, n = n)"
   ]
  },
  {
   "cell_type": "code",
   "execution_count": null,
   "id": "50f08238",
   "metadata": {},
   "outputs": [],
   "source": []
  }
 ],
 "metadata": {
  "kernelspec": {
   "display_name": "Python 3 (ipykernel)",
   "language": "python",
   "name": "python3"
  },
  "language_info": {
   "codemirror_mode": {
    "name": "ipython",
    "version": 3
   },
   "file_extension": ".py",
   "mimetype": "text/x-python",
   "name": "python",
   "nbconvert_exporter": "python",
   "pygments_lexer": "ipython3",
   "version": "3.8.10"
  }
 },
 "nbformat": 4,
 "nbformat_minor": 5
}
