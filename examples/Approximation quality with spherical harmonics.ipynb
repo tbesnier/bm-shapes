{
 "cells": [
  {
   "cell_type": "code",
   "execution_count": 1,
   "id": "5d5f8c95",
   "metadata": {},
   "outputs": [],
   "source": [
    "import matplotlib.pyplot as plt\n",
    "import numpy as np\n",
    "\n",
    "import sys\n",
    "sys.path.insert(0,\"../\")\n",
    "from utils import sph_utils"
   ]
  },
  {
   "cell_type": "code",
   "execution_count": 3,
   "id": "676181a4",
   "metadata": {},
   "outputs": [
    {
     "name": "stdout",
     "output_type": "stream",
     "text": [
      "0.11801923541125049\n"
     ]
    },
    {
     "name": "stderr",
     "output_type": "stream",
     "text": [
      "Clipping input data to the valid range for imshow with RGB data ([0..1] for floats or [0..255] for integers).\n",
      "Clipping input data to the valid range for imshow with RGB data ([0..1] for floats or [0..255] for integers).\n"
     ]
    },
    {
     "data": {
      "image/png": "[encoded data removed]",
      "text/plain": [
       "<Figure size 640x480 with 2 Axes>"
      ]
     },
     "metadata": {},
     "output_type": "display_data"
    }
   ],
   "source": [
    "def f(theta, phi):\n",
    "    return np.sin(theta + phi)\n",
    "\n",
    "my_basis = sph_utils.SphHarmBasis(n_coeffs=25)\n",
    "\n",
    "# encode your function in the desired basis and record the coefficients\n",
    "my_coeffs = my_basis.sph_harm_transform(f)\n",
    "\n",
    "# reconstruct your function at a point\n",
    "point = (np.pi/8, np.pi/8)\n",
    "my_basis.sph_harm_reconstruct(my_coeffs)(*point), f(*point)\n",
    "my_reconstr_function = my_basis.sph_harm_reconstruct(my_coeffs)\n",
    "\n",
    "pts_phi = np.linspace(0, 2*np.pi)\n",
    "pts_theta = np.linspace(0, np.pi)\n",
    "pts_2d = np.reshape(np.stack(np.meshgrid(pts_theta,pts_phi), axis=-1), (-1, 2))\n",
    "\n",
    "actual = []\n",
    "approx = []\n",
    "\n",
    "pts_total = 0\n",
    "\n",
    "for n, pt in enumerate(pts_2d):\n",
    "    f_actual = f(*pt)\n",
    "    f_approx = my_reconstr_function(*pt)\n",
    "    \n",
    "    actual.append(f_actual)\n",
    "    approx.append(f_approx)\n",
    "\n",
    "    pts_total += abs(f_approx - f_actual)\n",
    "    \n",
    "print(pts_total / len(pts_2d))\n",
    "\n",
    "plt.subplot(121)\n",
    "plt.imshow(np.reshape(np.repeat(actual, 3), (50, 50, 3)))\n",
    "\n",
    "plt.subplot(122)\n",
    "plt.imshow(np.reshape(np.repeat(approx, 3), (50, 50, 3)))\n",
    "plt.show()"
   ]
  },
  {
   "cell_type": "code",
   "execution_count": null,
   "id": "46a84684",
   "metadata": {},
   "outputs": [],
   "source": []
  }
 ],
 "metadata": {
  "kernelspec": {
   "display_name": "Python 3.9.13 ('env': venv)",
   "language": "python",
   "name": "python3"
  },
  "language_info": {
   "codemirror_mode": {
    "name": "ipython",
    "version": 3
   },
   "file_extension": ".py",
   "mimetype": "text/x-python",
   "name": "python",
   "nbconvert_exporter": "python",
   "pygments_lexer": "ipython3",
   "version": "3.9.13"
  },
  "vscode": {
   "interpreter": {
    "hash": "ba7e0ec10ec8c8c9fd3a50e675ee828bde848cff78e9e15e3bebcf00de9b0156"
   }
  }
 },
 "nbformat": 4,
 "nbformat_minor": 5
}
