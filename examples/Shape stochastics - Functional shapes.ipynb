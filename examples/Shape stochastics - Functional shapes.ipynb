{
 "cells": [
  {
   "cell_type": "markdown",
   "id": "dbfa97b1",
   "metadata": {},
   "source": [
    "# Basic stochastic processes between shapes described as simple functions in $L^2(\\mathbb{S}^2, \\mathbb{R}^3)$."
   ]
  },
  {
   "cell_type": "code",
   "execution_count": 1,
   "id": "12785c82",
   "metadata": {},
   "outputs": [
    {
     "name": "stdout",
     "output_type": "stream",
     "text": [
      "Jupyter environment detected. Enabling Open3D WebVisualizer.\n",
      "[Open3D INFO] WebRTC GUI backend enabled.\n",
      "[Open3D INFO] WebRTCWindowSystem: HTTP handshake server disabled.\n"
     ]
    }
   ],
   "source": [
    "import sys\n",
    "import numpy as np\n",
    "\n",
    "sys.path.insert(0,\"../\")\n",
    "from utils import shape_stochastics"
   ]
  },
  {
   "cell_type": "markdown",
   "id": "949358cd",
   "metadata": {},
   "source": [
    "## Q-Wiener process on spherical harmonic basis applied to the sphere"
   ]
  },
  {
   "cell_type": "code",
   "execution_count": 2,
   "id": "099b5a2b",
   "metadata": {},
   "outputs": [],
   "source": [
    "theta, phi = shape_stochastics.make_grid(N=32) #Build a grid on the sphere with a given resolution given by N\n",
    "\n",
    "### Shape defined through 3 separated functions giving the xyz coordinates ###\n",
    "def sphere_function_x(theta, phi):\n",
    "    return np.sin(theta)*np.cos(phi)\n",
    "\n",
    "def sphere_function_y(theta, phi):\n",
    "    return np.sin(theta)*np.sin(phi)\n",
    "\n",
    "def sphere_function_z(theta, phi):\n",
    "    return np.cos(theta)\n",
    "\n",
    "n = 25 #choose a resolution for the sph decomposition (HAS TO BE A SQUARED NUMBER FOR ISOTROPIC NOISE !!!)\n",
    "Q = np.eye(n)\n",
    "Q = np.diag(np.array([1/((k+2)*(k+1)) for k in range (0,n)]))"
   ]
  },
  {
   "cell_type": "code",
   "execution_count": 15,
   "id": "8e10876b",
   "metadata": {},
   "outputs": [
    {
     "data": {
      "text/plain": [
       "array([0.00000000e+00, 1.01168322e-01, 2.01298520e-01, ...,\n",
       "       2.00298223e-01, 1.00665594e-01, 1.21856125e-16])"
      ]
     },
     "execution_count": 15,
     "metadata": {},
     "output_type": "execute_result"
    }
   ],
   "source": [
    "sphere_function_x(theta,phi)"
   ]
  },
  {
   "cell_type": "code",
   "execution_count": null,
   "id": "9996bfaf",
   "metadata": {},
   "outputs": [
    {
     "data": {
      "text/plain": [
       "array([[[ 8.56412533e-17,  1.01168322e-01,  2.01298520e-01, ...,\n",
       "          2.00298223e-01,  1.00665594e-01,  6.37079957e-18],\n",
       "        [ 1.46368130e-18, -7.05212640e-18, -2.64287051e-17, ...,\n",
       "         -2.00428602e-02, -1.00731120e-02,  2.62851617e-18],\n",
       "        [ 1.00000000e+00,  9.94869323e-01,  9.79529941e-01, ...,\n",
       "         -9.79529941e-01, -9.94869323e-01, -1.00000000e+00]],\n",
       "\n",
       "       [[ 6.26584899e-02,  1.64000666e-01,  2.63821561e-01, ...,\n",
       "          2.31991128e-01,  1.33247200e-01,  3.37139222e-02],\n",
       "        [-5.99639645e-02, -5.97978029e-02, -5.95886383e-02, ...,\n",
       "         -6.73824136e-02, -5.55798436e-02, -4.37424843e-02],\n",
       "        [ 9.55105047e-01,  9.48073014e-01,  9.31096324e-01, ...,\n",
       "         -9.92768882e-01, -1.00835061e+00, -1.01383021e+00]],\n",
       "\n",
       "       [[-3.66860561e-03,  9.70347481e-02,  1.96277609e-01, ...,\n",
       "          1.73887717e-01,  7.37193180e-02, -2.70989858e-02],\n",
       "        [-6.13245588e-02, -5.91759626e-02, -5.68638376e-02, ...,\n",
       "         -5.38317685e-02, -4.26034421e-02, -3.16505813e-02],\n",
       "        [ 1.08035065e+00,  1.07280882e+00,  1.05550855e+00, ...,\n",
       "         -8.60639759e-01, -8.77458047e-01, -8.83812409e-01]],\n",
       "\n",
       "       ...,\n",
       "\n",
       "       [[ 2.80927895e-01,  3.81166146e-01,  4.75755523e-01, ...,\n",
       "          1.34495541e-01,  3.03170901e-02, -7.45940495e-02],\n",
       "        [ 2.09516035e-02,  2.30189873e-02,  2.58214772e-02, ...,\n",
       "         -4.89013407e-02, -3.74959420e-02, -2.35962529e-02],\n",
       "        [ 1.32795111e+00,  1.31996739e+00,  1.30127790e+00, ...,\n",
       "         -6.90990613e-01, -7.08568878e-01, -7.16394952e-01]],\n",
       "\n",
       "       [[ 3.19563921e-01,  4.20554031e-01,  5.15533278e-01, ...,\n",
       "          1.24714761e-01,  1.99866868e-02, -8.51859054e-02],\n",
       "        [ 6.66051556e-02,  6.65855842e-02,  6.71453637e-02, ...,\n",
       "         -3.79710239e-02, -2.46698478e-02, -8.27391965e-03],\n",
       "        [ 1.35914272e+00,  1.35096746e+00,  1.33230402e+00, ...,\n",
       "         -6.73968909e-01, -6.91530780e-01, -6.99066699e-01]],\n",
       "\n",
       "       [[ 3.22406377e-01,  4.23954037e-01,  5.19262820e-01, ...,\n",
       "          1.09444197e-01,  4.62382009e-03, -1.00338082e-01],\n",
       "        [ 5.26848716e-02,  5.14325282e-02,  5.07464013e-02, ...,\n",
       "         -5.44615264e-02, -4.05095218e-02, -2.33845172e-02],\n",
       "        [ 1.33357088e+00,  1.32436900e+00,  1.30473572e+00, ...,\n",
       "         -7.39826619e-01, -7.58131850e-01, -7.66043363e-01]]])"
      ]
     },
     "execution_count": 14,
     "metadata": {},
     "output_type": "execute_result"
    }
   ],
   "source": [
    "### Compute the Q-Wiener process and output the list of meshes during the process and a .gif file \n",
    "shape_stochastics.compute_wiener_process(sphere_function_x, sphere_function_y, sphere_function_z,\n",
    "                                         theta = theta, phi = phi, Q = Q, n = n, t=120, n_step=50, make_gif = True,\n",
    "                                         file_dir = \"tests/wiener_process_fshape\", file_name = \"Q_squared_225coeffs.gif\")"
   ]
  },
  {
   "cell_type": "markdown",
   "id": "3ebe6d9f",
   "metadata": {},
   "source": [
    "## Q-brownian bridge process between 2 functional shapes"
   ]
  },
  {
   "cell_type": "code",
   "execution_count": 2,
   "id": "8d53e011",
   "metadata": {},
   "outputs": [],
   "source": [
    "theta, phi = shape_stochastics.make_grid(N=32)\n",
    "n = 25\n",
    "lambdas = np.array([1/(np.sqrt(k+1)) for k in range (0,n)])\n",
    "Q = np.diag(lambdas) #covariance operator\n",
    "Q = np.eye(n)\n",
    "\n",
    "def sphere_function_x_start(theta, phi):\n",
    "    return np.sin(theta)*np.cos(phi)\n",
    "\n",
    "def sphere_function_y_start(theta, phi):\n",
    "    return np.sin(theta)*np.sin(phi)\n",
    "\n",
    "def sphere_function_z_start(theta, phi):\n",
    "    return np.cos(theta)\n",
    "\n",
    "def sphere_function_x_end(theta, phi):\n",
    "    return 2*np.sin(theta)*np.cos(phi)\n",
    "\n",
    "def sphere_function_y_end(theta, phi):\n",
    "    return 2*np.sin(theta)*np.sin(phi)\n",
    "\n",
    "def sphere_function_z_end(theta, phi):\n",
    "    return 2*np.cos(theta)"
   ]
  },
  {
   "cell_type": "code",
   "execution_count": 3,
   "id": "0102cc9e",
   "metadata": {},
   "outputs": [
    {
     "data": {
      "text/plain": [
       "array([[[ 1.07570722e-17,  1.01168327e-01,  2.01298529e-01, ...,\n",
       "          2.00298232e-01,  1.00665598e-01, -1.42261643e-17],\n",
       "        [ 3.62425013e-18, -5.14751437e-19, -4.07711949e-18, ...,\n",
       "         -2.00428611e-02, -1.00731124e-02,  4.19052129e-18],\n",
       "        [ 1.00000005e+00,  9.94869369e-01,  9.79529986e-01, ...,\n",
       "         -9.79529986e-01, -9.94869369e-01, -1.00000005e+00]],\n",
       "\n",
       "       [[-4.68399524e-02,  9.01370115e-02,  2.41077250e-01, ...,\n",
       "          5.98031473e-01,  4.63007573e-01,  3.19157564e-01],\n",
       "        [-7.64469559e-02, -7.07861187e-02, -6.07100393e-02, ...,\n",
       "          2.30048047e-01,  2.23521854e-01,  1.89961490e-01],\n",
       "        [ 1.03799973e+00,  9.87900622e-01,  9.22392571e-01, ...,\n",
       "         -1.05049300e+00, -1.12929182e+00, -1.20104774e+00]],\n",
       "\n",
       "       [[-1.16173436e-01,  9.38086280e-02,  3.01803771e-01, ...,\n",
       "          7.20130685e-01,  6.54336287e-01,  5.71531436e-01],\n",
       "        [-2.09698286e-01, -1.67227374e-01, -1.29197955e-01, ...,\n",
       "          4.95913319e-03,  8.50934569e-02,  1.35058701e-01],\n",
       "        [ 1.21309096e+00,  1.11339732e+00,  9.86439881e-01, ...,\n",
       "         -1.04420891e+00, -1.06373484e+00, -1.09932410e+00]],\n",
       "\n",
       "       ...,\n",
       "\n",
       "       [[-2.34675378e-01, -4.73412829e-02,  1.48918444e-01, ...,\n",
       "          6.72904604e-01,  4.07203284e-01,  1.18388495e-01],\n",
       "        [ 1.21505346e-01,  2.57236191e-01,  3.79311451e-01, ...,\n",
       "         -7.36326683e-01, -6.75238543e-01, -5.70699245e-01],\n",
       "        [ 2.04650092e+00,  2.05728271e+00,  2.06015740e+00, ...,\n",
       "         -2.28398086e+00, -2.28623059e+00, -2.23588720e+00]],\n",
       "\n",
       "       [[-3.04865428e-01, -1.19949541e-01,  8.07976792e-02, ...,\n",
       "          4.72737592e-01,  2.36665929e-01, -2.10976719e-02],\n",
       "        [-3.75805827e-01, -3.02840577e-01, -2.20252382e-01, ...,\n",
       "         -3.33695817e-01, -2.46476625e-01, -1.47693043e-01],\n",
       "        [ 2.04283808e+00,  2.05771717e+00,  2.03685372e+00, ...,\n",
       "         -2.39504521e+00, -2.42281139e+00, -2.40932079e+00]],\n",
       "\n",
       "       [[ 2.15141443e-17,  2.02336653e-01,  4.02597059e-01, ...,\n",
       "          4.00596463e-01,  2.01331197e-01, -2.84523286e-17],\n",
       "        [ 7.24850025e-18, -1.02950287e-18, -8.15423899e-18, ...,\n",
       "         -4.00857222e-02, -2.01462248e-02,  8.38104257e-18],\n",
       "        [ 2.00000009e+00,  1.98973874e+00,  1.95905997e+00, ...,\n",
       "         -1.95905997e+00, -1.98973874e+00, -2.00000009e+00]]])"
      ]
     },
     "execution_count": 3,
     "metadata": {},
     "output_type": "execute_result"
    }
   ],
   "source": [
    "### Compute the Q-Wiener bridge process and output the list of meshes during the process and a .gif file \n",
    "shape_stochastics.compute_simplebridge(sphere_function_x_start, sphere_function_y_start, sphere_function_z_start,\n",
    "                                         sphere_function_x_end, sphere_function_y_end, sphere_function_z_end,\n",
    "                                         theta = theta, phi = phi, Q = Q, n = n)"
   ]
  },
  {
   "cell_type": "markdown",
   "id": "71cf9ecd",
   "metadata": {},
   "source": [
    "## Fractional spectral Wiener process in H²"
   ]
  },
  {
   "cell_type": "code",
   "execution_count": 25,
   "id": "e58ff834",
   "metadata": {},
   "outputs": [],
   "source": [
    "theta, phi = shape_stochastics.make_grid(N=32) #Build a grid on the sphere with a given resolution given by N\n",
    "\n",
    "### Shape defined through 3 separated functions giving the xyz coordinates ###\n",
    "def sphere_function_x(theta, phi):\n",
    "    return np.sin(theta)*np.cos(phi)\n",
    "\n",
    "def sphere_function_y(theta, phi):\n",
    "    return np.sin(theta)*np.sin(phi)\n",
    "\n",
    "def sphere_function_z(theta, phi):\n",
    "    return np.cos(theta)\n",
    "\n",
    "n = 49 #choose a resolution for the sph decomposition (HAS TO BE A SQUARED NUMBER FOR ISOTROPIC NOISE !!!)\n",
    "#Q = np.eye(n)\n",
    "lambdas = np.array([1/np.sqrt(1 + (k+2)*(k+1)) for k in range (0,n)])\n",
    "Q = np.diag(lambdas)\n",
    "H = 0.8"
   ]
  },
  {
   "cell_type": "code",
   "execution_count": 26,
   "id": "c9df67aa",
   "metadata": {},
   "outputs": [
    {
     "data": {
      "text/plain": [
       "array([[[-0.01157019,  0.08891386,  0.18916498, ...,  0.19565624,\n",
       "          0.09600299, -0.00489842],\n",
       "        [-0.00194447, -0.00136364, -0.00174598, ..., -0.03076983,\n",
       "         -0.01945875, -0.00832936],\n",
       "        [ 1.00551611,  1.00021957,  0.98571386, ..., -0.97274034,\n",
       "         -0.98982928, -0.99553808]],\n",
       "\n",
       "       [[-0.02446628,  0.07681729,  0.17817893, ...,  0.1991581 ,\n",
       "          0.09817155, -0.00445013],\n",
       "        [-0.01249118, -0.01285297, -0.01389625, ..., -0.03375577,\n",
       "         -0.02048036, -0.00745286],\n",
       "        [ 0.9880634 ,  0.98351583,  0.97052573, ..., -0.96378703,\n",
       "         -0.98159799, -0.98764752]],\n",
       "\n",
       "       [[-0.04376678,  0.05590322,  0.15660548, ...,  0.20551563,\n",
       "          0.10498139,  0.00121283],\n",
       "        [-0.01417161, -0.01383798, -0.01474358, ..., -0.03653842,\n",
       "         -0.02346936, -0.00994363],\n",
       "        [ 0.97689044,  0.9732451 ,  0.96180918, ..., -0.95550818,\n",
       "         -0.9754243 , -0.98281392]],\n",
       "\n",
       "       ...,\n",
       "\n",
       "       [[-0.02487614,  0.02356416,  0.0722855 , ...,  0.49564315,\n",
       "          0.38433669,  0.2611912 ],\n",
       "        [ 0.16478301,  0.18556806,  0.18366194, ...,  0.07225697,\n",
       "          0.10712892,  0.13396795],\n",
       "        [ 0.82908347,  0.77971422,  0.74670181, ..., -0.89396139,\n",
       "         -0.958441  , -0.99638529]],\n",
       "\n",
       "       [[-0.0213946 ,  0.02752902,  0.07613557, ...,  0.50337653,\n",
       "          0.3934104 ,  0.27112155],\n",
       "        [ 0.1602397 ,  0.18307763,  0.1822343 , ...,  0.06270266,\n",
       "          0.09615329,  0.12188025],\n",
       "        [ 0.81580347,  0.76540835,  0.73194728, ..., -0.89579303,\n",
       "         -0.96149196, -1.0005093 ]],\n",
       "\n",
       "       [[-0.01787849,  0.03227234,  0.08254752, ...,  0.49537337,\n",
       "          0.38491008,  0.26314816],\n",
       "        [ 0.16818156,  0.18998881,  0.18830454, ...,  0.06136484,\n",
       "          0.09429899,  0.11955112],\n",
       "        [ 0.78114956,  0.72900916,  0.6942282 , ..., -0.9057075 ,\n",
       "         -0.97025908, -1.00832941]]])"
      ]
     },
     "execution_count": 26,
     "metadata": {},
     "output_type": "execute_result"
    }
   ],
   "source": [
    "### Compute the Q-Wiener process and output the list of meshes during the process and a .gif file \n",
    "### RUN TWICE\n",
    "shape_stochastics.compute_fractional_process(sphere_function_x, sphere_function_y, sphere_function_z,\n",
    "                                         theta = theta, phi = phi, Q = Q, H = H, n = n, t=1, n_step=50, make_gif = True,\n",
    "                                         file_dir = \"tests/fractional_process_fshape\", file_name = \"Q_Bessel_49_H0-8coeffs.gif\")"
   ]
  },
  {
   "cell_type": "code",
   "execution_count": null,
   "id": "ca3c71a9",
   "metadata": {},
   "outputs": [],
   "source": []
  }
 ],
 "metadata": {
  "kernelspec": {
   "display_name": "Python 3 (ipykernel)",
   "language": "python",
   "name": "python3"
  },
  "language_info": {
   "codemirror_mode": {
    "name": "ipython",
    "version": 3
   },
   "file_extension": ".py",
   "mimetype": "text/x-python",
   "name": "python",
   "nbconvert_exporter": "python",
   "pygments_lexer": "ipython3",
   "version": "3.8.10"
  },
  "vscode": {
   "interpreter": {
    "hash": "ba7e0ec10ec8c8c9fd3a50e675ee828bde848cff78e9e15e3bebcf00de9b0156"
   }
  }
 },
 "nbformat": 4,
 "nbformat_minor": 5
}
